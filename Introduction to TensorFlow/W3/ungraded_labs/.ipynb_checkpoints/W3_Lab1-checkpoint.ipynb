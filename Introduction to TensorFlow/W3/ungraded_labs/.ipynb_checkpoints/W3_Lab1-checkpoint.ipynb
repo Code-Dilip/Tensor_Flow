{
 "cells": [
  {
   "cell_type": "markdown",
   "id": "854f232b-984b-4e7e-bc37-5f091b56d674",
   "metadata": {},
   "source": [
    "Improving Computer Vision Accuracy using Convolutions\n",
    "\n"
   ]
  },
  {
   "cell_type": "code",
   "execution_count": 1,
   "id": "a5c3790d-41b8-4367-b7ff-8527e4c797b6",
   "metadata": {},
   "outputs": [
    {
     "name": "stderr",
     "output_type": "stream",
     "text": [
      "2024-10-08 18:16:46.832300: I tensorflow/core/platform/cpu_feature_guard.cc:182] This TensorFlow binary is optimized to use available CPU instructions in performance-critical operations.\n",
      "To enable the following instructions: SSE4.1 SSE4.2 AVX AVX2 FMA, in other operations, rebuild TensorFlow with the appropriate compiler flags.\n"
     ]
    }
   ],
   "source": [
    "# importing packages\n",
    "import tensorflow as tf\n",
    "import tensorflow.keras as K\n",
    "import matplotlib.pyplot as plt"
   ]
  },
  {
   "cell_type": "code",
   "execution_count": 2,
   "id": "772891c1-ac53-46eb-a8dc-050d388aaead",
   "metadata": {},
   "outputs": [],
   "source": [
    "# loading data\n",
    "fashion_mnist = K.datasets.fashion_mnist\n",
    "(training_images,training_labels),(testing_images,testing_labels) = fashion_mnist.load_data()\n",
    "train_x = training_images/255.\n",
    "train_y = training_labels\n",
    "\n",
    "test_x = testing_images/255.\n",
    "test_y = testing_labels"
   ]
  },
  {
   "cell_type": "code",
   "execution_count": 3,
   "id": "8be5abad-fdb0-4395-ab5c-288e41cc1f50",
   "metadata": {},
   "outputs": [
    {
     "name": "stdout",
     "output_type": "stream",
     "text": [
      "train_x.shape: (60000, 28, 28)\n",
      "train_y.shape: (60000,)\n",
      "\n",
      "test_x.shape: (10000, 28, 28)\n",
      "test_y.shape: (10000,)\n"
     ]
    }
   ],
   "source": [
    "print(\"train_x.shape:\",train_x.shape)\n",
    "print(\"train_y.shape:\",train_y.shape)\n",
    "print()\n",
    "print(\"test_x.shape:\",test_x.shape)\n",
    "print(\"test_y.shape:\",test_y.shape)"
   ]
  },
  {
   "cell_type": "code",
   "execution_count": 5,
   "id": "dbcd7f34-2ae7-499f-bfd6-b7440308a721",
   "metadata": {},
   "outputs": [],
   "source": [
    "# definint and compiling model\n",
    "\n",
    "model = K.Sequential([\n",
    "    K.Input(shape=(28,28)),\n",
    "    K.layers.Flatten(),\n",
    "    K.layers.Dense(128,activation='relu'),\n",
    "    K.layers.Dense(10,activation='sigmoid')\n",
    "])\n",
    "\n",
    "model.compile(optimizer = 'adam',loss = 'sparse_categorical_crossentropy',metrics = ['accuracy'])\n"
   ]
  },
  {
   "cell_type": "code",
   "execution_count": 6,
   "id": "040c859c-1fb9-4c7c-8853-ad32fb736664",
   "metadata": {},
   "outputs": [
    {
     "name": "stdout",
     "output_type": "stream",
     "text": [
      "Training Model!\n",
      "Epoch 1/5\n",
      "1875/1875 [==============================] - 100s 52ms/step - loss: 0.4962 - accuracy: 0.8245\n",
      "Epoch 2/5\n",
      "1875/1875 [==============================] - 101s 54ms/step - loss: 0.3709 - accuracy: 0.8661\n",
      "Epoch 3/5\n",
      "1875/1875 [==============================] - 106s 56ms/step - loss: 0.3343 - accuracy: 0.8760\n",
      "Epoch 4/5\n",
      "1875/1875 [==============================] - 100s 53ms/step - loss: 0.3093 - accuracy: 0.8855\n",
      "Epoch 5/5\n",
      "1875/1875 [==============================] - 97s 52ms/step - loss: 0.2905 - accuracy: 0.8936\n",
      "Evaluating Model!\n",
      "313/313 [==============================] - 13s 40ms/step - loss: 0.3692 - accuracy: 0.8688\n"
     ]
    },
    {
     "data": {
      "text/plain": [
       "[0.36916640400886536, 0.8687999844551086]"
      ]
     },
     "execution_count": 6,
     "metadata": {},
     "output_type": "execute_result"
    }
   ],
   "source": [
    "# training and evaluating the model\n",
    "\n",
    "print(\"Training Model!\")\n",
    "model.fit(train_x,train_y,epochs=5)\n",
    "\n",
    "print(\"Evaluating Model!\")\n",
    "model.evaluate(test_x,test_y,verbose=1)"
   ]
  },
  {
   "cell_type": "code",
   "execution_count": 7,
   "id": "e2318cf5-9966-4e05-b864-f21b1eb6ab43",
   "metadata": {
    "scrolled": true
   },
   "outputs": [],
   "source": [
    "# defining and compiling model with convolutional layers\n",
    "\n",
    "model = K.Sequential([\n",
    "    K.Input(shape=(28,28,1)),\n",
    "    \n",
    "    K.layers.Conv2D(64,(3,3),activation='relu'),\n",
    "    K.layers.MaxPooling2D((2,2)),\n",
    "    K.layers.Conv2D(64,(3,3),activation='relu'),\n",
    "    K.layers.MaxPooling2D((2,2)),\n",
    "    K.layers.Conv2D(64,(3,3),activation='relu'),\n",
    "    K.layers.MaxPooling2D((2,2)),\n",
    "\n",
    "    K.layers.Flatten(),\n",
    "    K.layers.Dense(128,activation='relu'),\n",
    "    K.layers.Dense(10,activation='softmax')\n",
    "])\n",
    "\n",
    "model.compile(optimizer = 'adam',loss = 'sparse_categorical_crossentropy',metrics=['accuracy'])\n",
    "    "
   ]
  },
  {
   "cell_type": "code",
   "execution_count": 8,
   "id": "4fad0442-39b5-4f46-91b1-4ab9b60b3d5a",
   "metadata": {},
   "outputs": [
    {
     "name": "stdout",
     "output_type": "stream",
     "text": [
      "Training Model with Convolutional layers! \n",
      "Epoch 1/5\n",
      "1875/1875 [==============================] - 217s 114ms/step - loss: 0.5740 - accuracy: 0.7914\n",
      "Epoch 2/5\n",
      "1875/1875 [==============================] - 226s 120ms/step - loss: 0.3919 - accuracy: 0.8561\n",
      "Epoch 3/5\n",
      "1875/1875 [==============================] - 208s 111ms/step - loss: 0.3345 - accuracy: 0.8754\n",
      "Epoch 4/5\n",
      "1875/1875 [==============================] - 240s 128ms/step - loss: 0.3007 - accuracy: 0.8891\n",
      "Epoch 5/5\n",
      "1875/1875 [==============================] - 234s 125ms/step - loss: 0.2727 - accuracy: 0.8986\n",
      "Evaluating Model with Convolutional layers!\n",
      "313/313 [==============================] - 18s 55ms/step - loss: 0.3276 - accuracy: 0.8836\n"
     ]
    },
    {
     "data": {
      "text/plain": [
       "[0.32763269543647766, 0.8835999965667725]"
      ]
     },
     "execution_count": 8,
     "metadata": {},
     "output_type": "execute_result"
    }
   ],
   "source": [
    "model.summary()\n",
    "\n",
    "print(\"Training Model with Convolutional layers! \")\n",
    "model.fit(train_x,train_y,epochs = 5)\n",
    "\n",
    "print(\"Evaluating Model with Convolutional layers!\")\n",
    "model.evaluate(test_x,test_y,verbose=1)\n"
   ]
  },
  {
   "cell_type": "code",
   "execution_count": 10,
   "id": "39061ebd-c288-42f6-908b-f58159d4b5b1",
   "metadata": {
    "id": "9FGsHhv6JvDx"
   },
   "outputs": [
    {
     "data": {
      "image/png": "[encoded data removed]",
      "text/plain": [
       "<Figure size 640x480 with 18 Axes>"
      ]
     },
     "metadata": {},
     "output_type": "display_data"
    }
   ],
   "source": [
    "FIRST_IMAGE=0\n",
    "SECOND_IMAGE=23\n",
    "THIRD_IMAGE=28\n",
    "CONVOLUTION_NUMBER = 1\n",
    "layers_to_visualize = [tf.keras.layers.Conv2D, tf.keras.layers.MaxPooling2D]\n",
    "\n",
    "layer_outputs = [layer.output for layer in model.layers if type(layer) in layers_to_visualize]\n",
    "activation_model = tf.keras.models.Model(inputs = model.inputs, outputs=layer_outputs)\n",
    "\n",
    "f, axarr = plt.subplots(3,len(layer_outputs))\n",
    "\n",
    "for x in range(len(layer_outputs)):\n",
    "    f1 = activation_model.predict(test_x[FIRST_IMAGE].reshape(1, 28, 28, 1), verbose=False)[x]\n",
    "    axarr[0,x].imshow(f1[0, :, :, CONVOLUTION_NUMBER], cmap='inferno')\n",
    "    axarr[0,x].grid(False)\n",
    "  \n",
    "    f2 = activation_model.predict(test_x[SECOND_IMAGE].reshape(1, 28, 28, 1), verbose=False)[x]\n",
    "    axarr[1,x].imshow(f2[0, :, :, CONVOLUTION_NUMBER], cmap='inferno')\n",
    "    axarr[1,x].grid(False)\n",
    "  \n",
    "    f3 = activation_model.predict(test_x[THIRD_IMAGE].reshape(1, 28, 28, 1), verbose=False)[x]\n",
    "    axarr[2,x].imshow(f3[0, :, :, CONVOLUTION_NUMBER], cmap='inferno')\n",
    "    axarr[2,x].grid(False)"
   ]
  }
 ],
 "metadata": {
  "kernelspec": {
   "display_name": "Python 3 (ipykernel)",
   "language": "python",
   "name": "python3"
  },
  "language_info": {
   "codemirror_mode": {
    "name": "ipython",
    "version": 3
   },
   "file_extension": ".py",
   "mimetype": "text/x-python",
   "name": "python",
   "nbconvert_exporter": "python",
   "pygments_lexer": "ipython3",
   "version": "3.11.5"
  }
 },
 "nbformat": 4,
 "nbformat_minor": 5
}
