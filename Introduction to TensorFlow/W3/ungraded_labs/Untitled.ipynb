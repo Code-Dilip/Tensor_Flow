{
 "cells": [
  {
   "cell_type": "markdown",
   "id": "854f232b-984b-4e7e-bc37-5f091b56d674",
   "metadata": {},
   "source": [
    "Improving Computer Vision Accuracy using Convolutions\n",
    "\n"
   ]
  },
  {
   "cell_type": "code",
   "execution_count": 1,
   "id": "a5c3790d-41b8-4367-b7ff-8527e4c797b6",
   "metadata": {},
   "outputs": [
    {
     "name": "stderr",
     "output_type": "stream",
     "text": [
      "2024-10-07 22:45:54.083969: I tensorflow/core/platform/cpu_feature_guard.cc:182] This TensorFlow binary is optimized to use available CPU instructions in performance-critical operations.\n",
      "To enable the following instructions: SSE4.1 SSE4.2 AVX AVX2 FMA, in other operations, rebuild TensorFlow with the appropriate compiler flags.\n"
     ]
    }
   ],
   "source": [
    "# importing packages\n",
    "import tensorflow as tf\n",
    "import tensorflow.keras as K\n",
    "import matplotlib.pyplot as plt"
   ]
  },
  {
   "cell_type": "code",
   "execution_count": 5,
   "id": "772891c1-ac53-46eb-a8dc-050d388aaead",
   "metadata": {},
   "outputs": [],
   "source": [
    "# loading data\n",
    "fashion_mnist = K.datasets.fashion_mnist\n",
    "(training_images,training_labels),(testing_images,testing_labels) = fashion_mnist.load_data()\n",
    "train_x = training_images/255.\n",
    "train_y = training_labels\n",
    "\n",
    "test_x = testing_images/255.\n",
    "test_y = testing_labels"
   ]
  },
  {
   "cell_type": "code",
   "execution_count": 4,
   "id": "8be5abad-fdb0-4395-ab5c-288e41cc1f50",
   "metadata": {},
   "outputs": [
    {
     "name": "stdout",
     "output_type": "stream",
     "text": [
      "train_x.shape: (60000, 28, 28)\n",
      "train_y.shape: (60000,)\n",
      "\n",
      "test_x.shape: (10000, 28, 28)\n",
      "test_y.shape: (10000,)\n"
     ]
    }
   ],
   "source": [
    "print(\"train_x.shape:\",train_x.shape)\n",
    "print(\"train_y.shape:\",train_y.shape)\n",
    "print()\n",
    "print(\"test_x.shape:\",test_x.shape)\n",
    "print(\"test_y.shape:\",test_y.shape)"
   ]
  },
  {
   "cell_type": "code",
   "execution_count": 15,
   "id": "e2318cf5-9966-4e05-b864-f21b1eb6ab43",
   "metadata": {
    "scrolled": true
   },
   "outputs": [
    {
     "name": "stdout",
     "output_type": "stream",
     "text": [
      "Model: \"sequential_7\"\n",
      "_________________________________________________________________\n",
      " Layer (type)                Output Shape              Param #   \n",
      "=================================================================\n",
      " conv2d_16 (Conv2D)          (None, 26, 26, 64)        640       \n",
      "                                                                 \n",
      " max_pooling2d_16 (MaxPoolin  (None, 13, 13, 64)       0         \n",
      " g2D)                                                            \n",
      "                                                                 \n",
      " conv2d_17 (Conv2D)          (None, 11, 11, 64)        36928     \n",
      "                                                                 \n",
      " max_pooling2d_17 (MaxPoolin  (None, 5, 5, 64)         0         \n",
      " g2D)                                                            \n",
      "                                                                 \n",
      " flatten_14 (Flatten)        (None, 1600)              0         \n",
      "                                                                 \n",
      " dense_15 (Dense)            (None, 128)               204928    \n",
      "                                                                 \n",
      " dense_16 (Dense)            (None, 10)                1290      \n",
      "                                                                 \n",
      "=================================================================\n",
      "Total params: 243,786\n",
      "Trainable params: 243,786\n",
      "Non-trainable params: 0\n",
      "_________________________________________________________________\n"
     ]
    }
   ],
   "source": [
    "# defining and compiling model\n",
    "\n",
    "model = K.Sequential([\n",
    "    K.Input(shape=(train_x.shape[1],train_x.shape[2],1)),\n",
    "    K.layers.Conv2D(64,(3,3),activation='relu'),\n",
    "    K.layers.MaxPooling2D(2,2),\n",
    "    K.layers.Conv2D(64,(3,3),activation='relu'),\n",
    "    K.layers.MaxPooling2D(2,2),\n",
    "\n",
    "    K.layers.Flatten(),\n",
    "    K.layers.Dense(128,activation='relu'),\n",
    "    K.layers.Dense(10,activation='softmax')\n",
    "])\n",
    "\n",
    "model.compile(optimizer = 'adam',loss = 'sparse_categorical_crossentropy',metrics = ['accuracy'])\n",
    "\n",
    "model.summary()\n",
    "    "
   ]
  },
  {
   "cell_type": "code",
   "execution_count": null,
   "id": "4fad0442-39b5-4f46-91b1-4ab9b60b3d5a",
   "metadata": {},
   "outputs": [
    {
     "name": "stdout",
     "output_type": "stream",
     "text": [
      "Training Model! \n",
      "Epoch 1/5\n",
      "1875/1875 [==============================] - 345s 182ms/step - loss: 0.4447 - accuracy: 0.8371\n",
      "Epoch 2/5\n",
      "1875/1875 [==============================] - 308s 164ms/step - loss: 0.2950 - accuracy: 0.8924\n",
      "Epoch 3/5\n",
      " 287/1875 [===>..........................] - ETA: 4:46 - loss: 0.2399 - accuracy: 0.9126"
     ]
    }
   ],
   "source": [
    "# training model\n",
    "print(\"Training Model! \")\n",
    "model.fit(train_x,train_y,epochs = 5)"
   ]
  },
  {
   "cell_type": "code",
   "execution_count": null,
   "id": "25988422-36ef-45f4-99bf-7f6fb6814fca",
   "metadata": {},
   "outputs": [],
   "source": [
    "# Evaluating model\n",
    "print(\"Evaluating Model on test data\")\n",
    "(test_loss,test_accuracy) = model.evaluate(test_x,test_y,verbose=0)\n",
    "print(\"model Loss on the test data:\",test_loss)\n",
    "print(\"model accuracy on the test data:\",test_accuracy)\n",
    "print()"
   ]
  },
  {
   "cell_type": "code",
   "execution_count": null,
   "id": "25af40f3-b3cd-40ac-a342-c0c8ae156401",
   "metadata": {},
   "outputs": [],
   "source": []
  }
 ],
 "metadata": {
  "kernelspec": {
   "display_name": "Python 3 (ipykernel)",
   "language": "python",
   "name": "python3"
  },
  "language_info": {
   "codemirror_mode": {
    "name": "ipython",
    "version": 3
   },
   "file_extension": ".py",
   "mimetype": "text/x-python",
   "name": "python",
   "nbconvert_exporter": "python",
   "pygments_lexer": "ipython3",
   "version": "3.11.5"
  }
 },
 "nbformat": 4,
 "nbformat_minor": 5
}
