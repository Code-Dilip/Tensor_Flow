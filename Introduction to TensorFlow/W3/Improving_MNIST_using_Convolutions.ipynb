{
 "cells": [
  {
   "cell_type": "code",
   "execution_count": 1,
   "id": "4f477d49-38f9-428f-a0af-73cba6cc0e2f",
   "metadata": {},
   "outputs": [
    {
     "name": "stderr",
     "output_type": "stream",
     "text": [
      "2024-10-08 21:23:46.228084: I tensorflow/core/platform/cpu_feature_guard.cc:182] This TensorFlow binary is optimized to use available CPU instructions in performance-critical operations.\n",
      "To enable the following instructions: SSE4.1 SSE4.2 AVX AVX2 FMA, in other operations, rebuild TensorFlow with the appropriate compiler flags.\n"
     ]
    }
   ],
   "source": [
    "#importing packages\n",
    "\n",
    "import tensorflow as tf\n",
    "import numpy as np\n"
   ]
  },
  {
   "cell_type": "code",
   "execution_count": 4,
   "id": "bf435a21-8b7c-446f-9b99-77e4e19fc5c8",
   "metadata": {},
   "outputs": [
    {
     "name": "stdout",
     "output_type": "stream",
     "text": [
      "train_x.shape: (60000, 28, 28)\n",
      "train_y.shape: (60000,)\n",
      "\n",
      "test_x.shape: (10000, 28, 28)\n",
      "test_y.shape: (10000,)\n",
      "\n"
     ]
    }
   ],
   "source": [
    "# loading dataset and normalizing images\n",
    "\n",
    "mnist_data = tf.keras.datasets.mnist\n",
    "(training_images,training_labels),(testing_images,testing_labels) = mnist_data.load_data()\n",
    "\n",
    "train_x = training_images/255.\n",
    "train_y = training_labels\n",
    "\n",
    "test_x = testing_images/255\n",
    "test_y = testing_labels\n",
    "\n",
    "print(\"train_x.shape:\",train_x.shape)\n",
    "print(\"train_y.shape:\",train_y.shape)\n",
    "print()\n",
    "print(\"test_x.shape:\",test_x.shape)\n",
    "print(\"test_y.shape:\",test_y.shape)\n",
    "print()"
   ]
  },
  {
   "cell_type": "code",
   "execution_count": 13,
   "id": "6ef1973b-98dd-4aeb-b8ed-4afa056fbd05",
   "metadata": {},
   "outputs": [],
   "source": [
    "# function to reshape and normalize images\n",
    "\n",
    "def reshape_and_normalize(images):\n",
    "    \"\"\"Reshapes the array of images and normalizes pixel values.\n",
    "\n",
    "    Args:\n",
    "        images (numpy.ndarray): The images encoded as numpy arrays\n",
    "\n",
    "    Returns:\n",
    "        numpy.ndarray: The reshaped and normalized images.\n",
    "    \"\"\"\n",
    "    images = images.reshape(train_x.shape[0],train_x.shape[1],train_x.shape[2],1)\n",
    "    images = images/255.\n",
    "\n",
    "    return images"
   ]
  },
  {
   "cell_type": "code",
   "execution_count": 18,
   "id": "cbb789a9-bc2b-4200-b456-6715cc412c80",
   "metadata": {},
   "outputs": [
    {
     "name": "stdout",
     "output_type": "stream",
     "text": [
      "Before reshaping train_x.shape: (60000, 28, 28, 1)\n",
      "Before normalizing train_x[0:10,0,0]: [[0.]\n",
      " [0.]\n",
      " [0.]\n",
      " [0.]\n",
      " [0.]\n",
      " [0.]\n",
      " [0.]\n",
      " [0.]\n",
      " [0.]\n",
      " [0.]]\n",
      "After reshaping train_x.shape: (60000, 28, 28, 1)\n",
      "After normalizing train_x[0:10,0,0]: [[0.]\n",
      " [0.]\n",
      " [0.]\n",
      " [0.]\n",
      " [0.]\n",
      " [0.]\n",
      " [0.]\n",
      " [0.]\n",
      " [0.]\n",
      " [0.]]\n",
      "\n",
      "After reshaping test_x.shape: (60000, 28, 28, 1)\n",
      "After normalizing test_x[0:10,0,0]: [[0.]\n",
      " [0.]\n",
      " [0.]\n",
      " [0.]\n",
      " [0.]\n",
      " [0.]\n",
      " [0.]\n",
      " [0.]\n",
      " [0.]\n",
      " [0.]]\n",
      "\n"
     ]
    }
   ],
   "source": [
    "# Before reshaping and normalizing\n",
    "print(\"Before reshaping train_x.shape:\",train_x.shape)\n",
    "print(\"Before normalizing train_x[0:10,0,0]:\",train_x[0:10,0,0])\n",
    "# After reshaping \n",
    "train_x = reshape_and_normalize(train_x)\n",
    "print(\"After reshaping train_x.shape:\",train_x.shape)\n",
    "print(\"After normalizing train_x[0:10,0,0]:\",train_x[0:10,0,0])\n",
    "print()\n",
    "# Similarly\n",
    "test_x = reshape_and_normalize(train_x)\n",
    "print(\"After reshaping test_x.shape:\",test_x.shape)\n",
    "print(\"After normalizing test_x[0:10,0,0]:\",test_x[0:10,0,0])\n",
    "print()"
   ]
  },
  {
   "cell_type": "code",
   "execution_count": 19,
   "id": "d3d19fc7-164b-41ae-a012-e7a066e25936",
   "metadata": {},
   "outputs": [],
   "source": [
    "# creating a call back\n",
    "\n",
    "class my_callback(tf.keras.callbacks.Callback):\n",
    "    def on_epoch_end(self,epoch,logs={}):\n",
    "        if(logs['accuracy'] > 0.95):\n",
    "            print(\"Stop training as accuracy > 95% !\")\n",
    "            self.model.stop_training = True\n",
    "            "
   ]
  },
  {
   "cell_type": "code",
   "execution_count": 33,
   "id": "23bc4951-4b5b-4d77-9d3a-f5faa7110675",
   "metadata": {},
   "outputs": [],
   "source": [
    "# function to define and compile a model with convolutional layers\n",
    "\n",
    "def convolutional_model():\n",
    "\n",
    "    model = tf.keras.Sequential([\n",
    "        tf.keras.Input(shape=(train_x.shape[1],train_x.shape[2],train_x.shape[3])),\n",
    "\n",
    "        tf.keras.layers.Conv2D(32,(3,3),activation='relu'),\n",
    "        tf.keras.layers.MaxPooling2D((2,2)),\n",
    "\n",
    "        tf.keras.layers.Flatten(),\n",
    "        tf.keras.layers.Dense(128,activation='relu'),\n",
    "        tf.keras.layers.Dense(10,activation='softmax')\n",
    "    ])\n",
    "\n",
    "    model.compile(optimizer = 'adam',loss = 'sparse_categorical_crossentropy',metrics = ['accuracy'])\n",
    "\n",
    "    return model"
   ]
  },
  {
   "cell_type": "code",
   "execution_count": 34,
   "id": "cc8839d1-1756-46b5-90b8-67f0e2338825",
   "metadata": {},
   "outputs": [],
   "source": [
    "model = convolutional_model()"
   ]
  },
  {
   "cell_type": "code",
   "execution_count": null,
   "id": "028e8c6e-3706-4667-9068-bf44abd2c0df",
   "metadata": {},
   "outputs": [],
   "source": [
    "# Training model\n",
    "print(\"Training model!\")\n",
    "model.fit(train_x,train_y,epochs = 10,callbacks=[my_callback()])"
   ]
  },
  {
   "cell_type": "code",
   "execution_count": null,
   "id": "57617c57-8f3c-433d-9b43-2d473c77609a",
   "metadata": {},
   "outputs": [],
   "source": [
    "# Evalutating model\n",
    "print(\"Evaluating model on test dataset!\")\n",
    "model.evaluate(test_x,test_y,verbose = 0)"
   ]
  }
 ],
 "metadata": {
  "kernelspec": {
   "display_name": "Python 3 (ipykernel)",
   "language": "python",
   "name": "python3"
  },
  "language_info": {
   "codemirror_mode": {
    "name": "ipython",
    "version": 3
   },
   "file_extension": ".py",
   "mimetype": "text/x-python",
   "name": "python",
   "nbconvert_exporter": "python",
   "pygments_lexer": "ipython3",
   "version": "3.11.5"
  }
 },
 "nbformat": 4,
 "nbformat_minor": 5
}
