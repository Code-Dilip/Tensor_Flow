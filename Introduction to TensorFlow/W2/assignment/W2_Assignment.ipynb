{
 "cells": [
  {
   "cell_type": "code",
   "execution_count": 1,
   "id": "7abff330-899a-484d-bc59-c85fd32027e5",
   "metadata": {},
   "outputs": [
    {
     "name": "stderr",
     "output_type": "stream",
     "text": [
      "2024-10-06 18:56:24.213445: I tensorflow/core/platform/cpu_feature_guard.cc:182] This TensorFlow binary is optimized to use available CPU instructions in performance-critical operations.\n",
      "To enable the following instructions: SSE4.1 SSE4.2 AVX AVX2 FMA, in other operations, rebuild TensorFlow with the appropriate compiler flags.\n"
     ]
    }
   ],
   "source": [
    "#Importing packages\n",
    "import tensorflow as tf\n",
    "import tensorflow.keras as K"
   ]
  },
  {
   "cell_type": "code",
   "execution_count": 2,
   "id": "e6cdb77e-fedc-477f-b147-c586d8189040",
   "metadata": {},
   "outputs": [
    {
     "name": "stdout",
     "output_type": "stream",
     "text": [
      "size of training set: 60000\n",
      "size of each image: ( 28 , 28 )\n"
     ]
    }
   ],
   "source": [
    "#loading data (digit recognition data)\n",
    "(training_images,training_labels),(testing_images,testing_labels) = K.datasets.mnist.load_data()\n",
    "(m,n,q) = training_images.shape\n",
    "print(\"size of training set:\",m)\n",
    "print(\"size of each image: (\",n,\",\",q,\")\")"
   ]
  },
  {
   "cell_type": "code",
   "execution_count": 3,
   "id": "7e7ab1da-81d5-418e-8b35-d51c8fab6d10",
   "metadata": {},
   "outputs": [
    {
     "name": "stdout",
     "output_type": "stream",
     "text": [
      "train_x.shape: (60000, 28, 28)\n",
      "train_y.shape: (60000,)\n",
      "\n",
      "test_x.shape: (10000, 28, 28)\n",
      "test_y.shape: (10000,)\n"
     ]
    }
   ],
   "source": [
    "# Normalizing data\n",
    "train_x = training_images/255.0\n",
    "train_y = training_labels\n",
    "\n",
    "test_x = testing_images/255.0\n",
    "test_y = testing_labels\n",
    "print(\"train_x.shape:\",train_x.shape)\n",
    "print(\"train_y.shape:\",train_y.shape)\n",
    "print()\n",
    "print(\"test_x.shape:\",test_x.shape)\n",
    "print(\"test_y.shape:\",test_y.shape)"
   ]
  },
  {
   "cell_type": "code",
   "execution_count": 4,
   "id": "fc4296ea-7a00-4f61-94f0-aa06b023a6aa",
   "metadata": {},
   "outputs": [],
   "source": [
    "# Defining and compiling model\n",
    "\n",
    "def define_and_compile_model():\n",
    "\n",
    "    model = tf.keras.Sequential([\n",
    "        tf.keras.Input(shape=(n,q)),\n",
    "        tf.keras.layers.Flatten(),\n",
    "        tf.keras.layers.Dense(128,activation='relu'),\n",
    "        tf.keras.layers.Dense(10,activation='softmax')\n",
    "    ])\n",
    "\n",
    "    model.compile(optimizer = K.optimizers.Adam(),loss = K.losses.SparseCategoricalCrossentropy(),metrics = ['accuracy'])\n",
    "    return model"
   ]
  },
  {
   "cell_type": "code",
   "execution_count": 10,
   "id": "c777ea53-5249-4675-b38a-c0c04fd8e93a",
   "metadata": {},
   "outputs": [],
   "source": [
    "#creating a untrained model\n",
    "untrained_model = define_and_compile_model()"
   ]
  },
  {
   "cell_type": "code",
   "execution_count": 11,
   "id": "8e6fb7f0-a724-4c43-95a7-a6fb5576156e",
   "metadata": {},
   "outputs": [],
   "source": [
    "#defining my call back\n",
    "class myCallBack(K.callbacks.Callback):\n",
    "    def on_epoch_end(self,epoch,logs={}):\n",
    "        if(logs['accuracy'] > 0.98):\n",
    "            print(\"Accuracy > 0.9,so stop training\")\n",
    "            self.untrained_model.stop_training = True\n",
    "    "
   ]
  },
  {
   "cell_type": "code",
   "execution_count": 12,
   "id": "20f7899a-33ef-451b-b5e8-ad69f02dc8e0",
   "metadata": {},
   "outputs": [
    {
     "name": "stdout",
     "output_type": "stream",
     "text": [
      "Epoch 1/10\n",
      "1875/1875 [==============================] - 104s 55ms/step - loss: 0.2541 - accuracy: 0.9281\n",
      "Epoch 2/10\n",
      "1875/1875 [==============================] - 93s 50ms/step - loss: 0.1093 - accuracy: 0.9671\n",
      "Epoch 3/10\n",
      "1875/1875 [==============================] - 103s 55ms/step - loss: 0.0757 - accuracy: 0.9769\n",
      "Epoch 4/10\n",
      "1875/1875 [==============================] - ETA: 0s - loss: 0.0557 - accuracy: 0.9827Accuracy > 0.9,so stop training\n"
     ]
    },
    {
     "ename": "AttributeError",
     "evalue": "'myCallBack' object has no attribute 'untrained_model'",
     "output_type": "error",
     "traceback": [
      "\u001b[0;31m---------------------------------------------------------------------------\u001b[0m",
      "\u001b[0;31mAttributeError\u001b[0m                            Traceback (most recent call last)",
      "Cell \u001b[0;32mIn[12], line 2\u001b[0m\n\u001b[1;32m      1\u001b[0m \u001b[38;5;66;03m#training_model\u001b[39;00m\n\u001b[0;32m----> 2\u001b[0m untrained_model\u001b[38;5;241m.\u001b[39mfit(train_x,train_y,epochs \u001b[38;5;241m=\u001b[39m \u001b[38;5;241m10\u001b[39m,callbacks\u001b[38;5;241m=\u001b[39m([myCallBack()]))\n",
      "File \u001b[0;32m~/anaconda3/envs/Machine_Learning/lib/python3.11/site-packages/keras/utils/traceback_utils.py:70\u001b[0m, in \u001b[0;36mfilter_traceback.<locals>.error_handler\u001b[0;34m(*args, **kwargs)\u001b[0m\n\u001b[1;32m     67\u001b[0m     filtered_tb \u001b[38;5;241m=\u001b[39m _process_traceback_frames(e\u001b[38;5;241m.\u001b[39m__traceback__)\n\u001b[1;32m     68\u001b[0m     \u001b[38;5;66;03m# To get the full stack trace, call:\u001b[39;00m\n\u001b[1;32m     69\u001b[0m     \u001b[38;5;66;03m# `tf.debugging.disable_traceback_filtering()`\u001b[39;00m\n\u001b[0;32m---> 70\u001b[0m     \u001b[38;5;28;01mraise\u001b[39;00m e\u001b[38;5;241m.\u001b[39mwith_traceback(filtered_tb) \u001b[38;5;28;01mfrom\u001b[39;00m \u001b[38;5;28;01mNone\u001b[39;00m\n\u001b[1;32m     71\u001b[0m \u001b[38;5;28;01mfinally\u001b[39;00m:\n\u001b[1;32m     72\u001b[0m     \u001b[38;5;28;01mdel\u001b[39;00m filtered_tb\n",
      "Cell \u001b[0;32mIn[11], line 6\u001b[0m, in \u001b[0;36mmyCallBack.on_epoch_end\u001b[0;34m(self, epoch, logs)\u001b[0m\n\u001b[1;32m      4\u001b[0m \u001b[38;5;28;01mif\u001b[39;00m(logs[\u001b[38;5;124m'\u001b[39m\u001b[38;5;124maccuracy\u001b[39m\u001b[38;5;124m'\u001b[39m] \u001b[38;5;241m>\u001b[39m \u001b[38;5;241m0.98\u001b[39m):\n\u001b[1;32m      5\u001b[0m     \u001b[38;5;28mprint\u001b[39m(\u001b[38;5;124m\"\u001b[39m\u001b[38;5;124mAccuracy > 0.9,so stop training\u001b[39m\u001b[38;5;124m\"\u001b[39m)\n\u001b[0;32m----> 6\u001b[0m     \u001b[38;5;28mself\u001b[39m\u001b[38;5;241m.\u001b[39muntrained_model\u001b[38;5;241m.\u001b[39mstop_training \u001b[38;5;241m=\u001b[39m \u001b[38;5;28;01mTrue\u001b[39;00m\n",
      "\u001b[0;31mAttributeError\u001b[0m: 'myCallBack' object has no attribute 'untrained_model'"
     ]
    }
   ],
   "source": [
    "#training_model\n",
    "untrained_model.fit(train_x,train_y,epochs = 10,callbacks=([myCallBack()]))"
   ]
  },
  {
   "cell_type": "code",
   "execution_count": null,
   "id": "3ffe19c3-7def-4ca0-afa8-ac04bdcde204",
   "metadata": {},
   "outputs": [],
   "source": []
  }
 ],
 "metadata": {
  "kernelspec": {
   "display_name": "Python 3 (ipykernel)",
   "language": "python",
   "name": "python3"
  },
  "language_info": {
   "codemirror_mode": {
    "name": "ipython",
    "version": 3
   },
   "file_extension": ".py",
   "mimetype": "text/x-python",
   "name": "python",
   "nbconvert_exporter": "python",
   "pygments_lexer": "ipython3",
   "version": "3.11.5"
  }
 },
 "nbformat": 4,
 "nbformat_minor": 5
}
