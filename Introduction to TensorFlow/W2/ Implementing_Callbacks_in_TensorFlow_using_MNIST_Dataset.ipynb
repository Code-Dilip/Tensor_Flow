{
 "cells": [
  {
   "cell_type": "code",
   "execution_count": 1,
   "id": "7abff330-899a-484d-bc59-c85fd32027e5",
   "metadata": {},
   "outputs": [
    {
     "name": "stderr",
     "output_type": "stream",
     "text": [
      "2024-10-06 18:56:24.213445: I tensorflow/core/platform/cpu_feature_guard.cc:182] This TensorFlow binary is optimized to use available CPU instructions in performance-critical operations.\n",
      "To enable the following instructions: SSE4.1 SSE4.2 AVX AVX2 FMA, in other operations, rebuild TensorFlow with the appropriate compiler flags.\n"
     ]
    }
   ],
   "source": [
    "#Importing packages\n",
    "import tensorflow as tf\n",
    "import tensorflow.keras as K"
   ]
  },
  {
   "cell_type": "code",
   "execution_count": 2,
   "id": "e6cdb77e-fedc-477f-b147-c586d8189040",
   "metadata": {},
   "outputs": [
    {
     "name": "stdout",
     "output_type": "stream",
     "text": [
      "size of training set: 60000\n",
      "size of each image: ( 28 , 28 )\n"
     ]
    }
   ],
   "source": [
    "#loading data (digit recognition data)\n",
    "(training_images,training_labels),(testing_images,testing_labels) = K.datasets.mnist.load_data()\n",
    "(m,n,q) = training_images.shape\n",
    "print(\"size of training set:\",m)\n",
    "print(\"size of each image: (\",n,\",\",q,\")\")"
   ]
  },
  {
   "cell_type": "code",
   "execution_count": 3,
   "id": "7e7ab1da-81d5-418e-8b35-d51c8fab6d10",
   "metadata": {},
   "outputs": [
    {
     "name": "stdout",
     "output_type": "stream",
     "text": [
      "train_x.shape: (60000, 28, 28)\n",
      "train_y.shape: (60000,)\n",
      "\n",
      "test_x.shape: (10000, 28, 28)\n",
      "test_y.shape: (10000,)\n"
     ]
    }
   ],
   "source": [
    "# Normalizing data\n",
    "train_x = training_images/255.0\n",
    "train_y = training_labels\n",
    "\n",
    "test_x = testing_images/255.0\n",
    "test_y = testing_labels\n",
    "print(\"train_x.shape:\",train_x.shape)\n",
    "print(\"train_y.shape:\",train_y.shape)\n",
    "print()\n",
    "print(\"test_x.shape:\",test_x.shape)\n",
    "print(\"test_y.shape:\",test_y.shape)"
   ]
  },
  {
   "cell_type": "code",
   "execution_count": 4,
   "id": "fc4296ea-7a00-4f61-94f0-aa06b023a6aa",
   "metadata": {},
   "outputs": [],
   "source": [
    "# Defining and compiling model\n",
    "\n",
    "def define_and_compile_model():\n",
    "\n",
    "    model = tf.keras.Sequential([\n",
    "        tf.keras.Input(shape=(n,q)),\n",
    "        tf.keras.layers.Flatten(),\n",
    "        tf.keras.layers.Dense(128,activation='relu'),\n",
    "        tf.keras.layers.Dense(10,activation='softmax')\n",
    "    ])\n",
    "\n",
    "    model.compile(optimizer = K.optimizers.Adam(),loss = K.losses.SparseCategoricalCrossentropy(),metrics = ['accuracy'])\n",
    "    return model"
   ]
  },
  {
   "cell_type": "code",
   "execution_count": 10,
   "id": "c777ea53-5249-4675-b38a-c0c04fd8e93a",
   "metadata": {},
   "outputs": [],
   "source": [
    "#creating a untrained model\n",
    "untrained_model = define_and_compile_model()"
   ]
  },
  {
   "cell_type": "code",
   "execution_count": 11,
   "id": "8e6fb7f0-a724-4c43-95a7-a6fb5576156e",
   "metadata": {},
   "outputs": [],
   "source": [
    "#defining my call back\n",
    "class myCallBack(K.callbacks.Callback):\n",
    "    def on_epoch_end(self,epoch,logs={}):\n",
    "        if(logs['accuracy'] > 0.98):\n",
    "            print(\"Accuracy > 0.9,so stop training\")\n",
    "            self.untrained_model.stop_training = True\n",
    "    "
   ]
  },
  {
   "cell_type": "code",
   "execution_count": null,
   "id": "20f7899a-33ef-451b-b5e8-ad69f02dc8e0",
   "metadata": {},
   "outputs": [],
   "source": [
    "#training_model\n",
    "untrained_model.fit(train_x,train_y,epochs = 10,callbacks=([myCallBack()]))"
   ]
  },
  {
   "cell_type": "code",
   "execution_count": null,
   "id": "3ffe19c3-7def-4ca0-afa8-ac04bdcde204",
   "metadata": {},
   "outputs": [],
   "source": []
  }
 ],
 "metadata": {
  "kernelspec": {
   "display_name": "Python 3 (ipykernel)",
   "language": "python",
   "name": "python3"
  },
  "language_info": {
   "codemirror_mode": {
    "name": "ipython",
    "version": 3
   },
   "file_extension": ".py",
   "mimetype": "text/x-python",
   "name": "python",
   "nbconvert_exporter": "python",
   "pygments_lexer": "ipython3",
   "version": "3.11.5"
  }
 },
 "nbformat": 4,
 "nbformat_minor": 5
}
