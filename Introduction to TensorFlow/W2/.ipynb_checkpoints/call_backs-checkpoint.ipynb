{
 "cells": [
  {
   "cell_type": "code",
   "execution_count": 1,
   "id": "4a69bb24-ec4f-461d-a6a7-d56d5bcd5313",
   "metadata": {},
   "outputs": [
    {
     "name": "stderr",
     "output_type": "stream",
     "text": [
      "2024-10-02 16:08:03.673452: I tensorflow/core/platform/cpu_feature_guard.cc:182] This TensorFlow binary is optimized to use available CPU instructions in performance-critical operations.\n",
      "To enable the following instructions: SSE4.1 SSE4.2 AVX AVX2 FMA, in other operations, rebuild TensorFlow with the appropriate compiler flags.\n"
     ]
    }
   ],
   "source": [
    "# Import packages\n",
    "import numpy as np\n",
    "import tensorflow as tf\n",
    "import tensorflow.keras as K"
   ]
  },
  {
   "cell_type": "code",
   "execution_count": 6,
   "id": "93f4ae67-63e4-4438-ab07-f0fdd7f5a221",
   "metadata": {},
   "outputs": [],
   "source": [
    "# Loading test and train dataset\n",
    "f_mnist = K.datasets.fashion_mnist\n",
    "(train_x,train_y),(test_x,test_y) = f_mnist.load_data()"
   ]
  },
  {
   "cell_type": "code",
   "execution_count": 7,
   "id": "3f58b39e-cd3c-451d-8a44-b866a2d669d4",
   "metadata": {},
   "outputs": [],
   "source": [
    "# Normalizing\n",
    "train_x = train_x/255.\n",
    "test_x = test_x/255."
   ]
  },
  {
   "cell_type": "code",
   "execution_count": 8,
   "id": "c2bd9b5c-93ed-455e-bed1-61bb2a0435b0",
   "metadata": {},
   "outputs": [
    {
     "name": "stdout",
     "output_type": "stream",
     "text": [
      "train_x.shape: (60000, 28, 28)\n",
      "train_y.shape: (60000,)\n",
      "\n",
      "test_x.shape: (10000, 28, 28)\n",
      "test_y.shape: (10000,)\n"
     ]
    }
   ],
   "source": [
    "print(\"train_x.shape:\",train_x.shape)\n",
    "print(\"train_y.shape:\",train_y.shape)\n",
    "print()\n",
    "print(\"test_x.shape:\",test_x.shape)\n",
    "print(\"test_y.shape:\",test_y.shape)"
   ]
  },
  {
   "cell_type": "code",
   "execution_count": 29,
   "id": "b641a151-8b09-4087-8d30-1b3971426d02",
   "metadata": {},
   "outputs": [],
   "source": [
    "#defining call back\n",
    "class my_callback(tf.keras.callbacks.Callback):\n",
    "    def on_epoch_end(self,epoch,logs = {}):\n",
    "        if(logs['loss'] < 0.4):\n",
    "            print(\"The current training loss is < 0.4\")\n",
    "            print(\"so, stop training!\")\n",
    "            self.model.stop_training = True\n",
    "        if(logs['accuracy'] > 0.6):\n",
    "            print(\"The current training accuracy is > 60%\")\n",
    "            print(\"so, stop training!\")\n",
    "            self.model.stop_training = True"
   ]
  },
  {
   "cell_type": "code",
   "execution_count": 30,
   "id": "5c3c81ab-49f3-4339-8998-f52db663bcc0",
   "metadata": {},
   "outputs": [],
   "source": [
    "# defining model and compiling model\n",
    "\n",
    "model = K.Sequential([\n",
    "    K.Input(shape=(28,28)),\n",
    "    K.layers.Flatten(),\n",
    "    K.layers.Dense(512,activation=tf.nn.relu),\n",
    "    K.layers.Dense(10,activation=tf.nn.sigmoid)\n",
    "])\n",
    "\n",
    "model.compile(optimizer = K.optimizers.Adam(),\n",
    "              loss = K.losses.SparseCategoricalCrossentropy(),\n",
    "              metrics = ['accuracy']\n",
    "             )"
   ]
  },
  {
   "cell_type": "code",
   "execution_count": 31,
   "id": "5d66740d-8873-4a31-a9ca-79906cbea675",
   "metadata": {},
   "outputs": [
    {
     "name": "stdout",
     "output_type": "stream",
     "text": [
      "Epoch 1/10\n",
      "1875/1875 [==============================] - ETA: 0s - loss: 0.5035 - accuracy: 0.8236The current training accuracy is > 60%\n",
      "so, stop training!\n",
      "1875/1875 [==============================] - 95s 50ms/step - loss: 0.5035 - accuracy: 0.8236\n",
      "Model: \"sequential_3\"\n",
      "_________________________________________________________________\n",
      " Layer (type)                Output Shape              Param #   \n",
      "=================================================================\n",
      " flatten_3 (Flatten)         (None, 784)               0         \n",
      "                                                                 \n",
      " dense_6 (Dense)             (None, 512)               401920    \n",
      "                                                                 \n",
      " dense_7 (Dense)             (None, 10)                5130      \n",
      "                                                                 \n",
      "=================================================================\n",
      "Total params: 407,050\n",
      "Trainable params: 407,050\n",
      "Non-trainable params: 0\n",
      "_________________________________________________________________\n"
     ]
    }
   ],
   "source": [
    "# training model using my call back\n",
    "\n",
    "model.fit(train_x,train_y,callbacks = ([my_callback()]),epochs = 10)\n",
    "model.summary()"
   ]
  },
  {
   "cell_type": "code",
   "execution_count": 17,
   "id": "ed205eb5-8637-4719-879e-0dfdaf54b755",
   "metadata": {},
   "outputs": [
    {
     "name": "stdout",
     "output_type": "stream",
     "text": [
      "313/313 [==============================] - 9s 27ms/step - loss: 0.3631 - accuracy: 0.8697\n"
     ]
    },
    {
     "data": {
      "text/plain": [
       "[0.363124281167984, 0.869700014591217]"
      ]
     },
     "execution_count": 17,
     "metadata": {},
     "output_type": "execute_result"
    }
   ],
   "source": [
    "# evaluating a model\n",
    "model.evaluate(test_x,test_y)"
   ]
  },
  {
   "cell_type": "code",
   "execution_count": 32,
   "id": "d8fee7ed-b9f0-455f-92db-a6a87e765d93",
   "metadata": {},
   "outputs": [
    {
     "name": "stdout",
     "output_type": "stream",
     "text": [
      "313/313 [==============================] - 6s 18ms/step\n"
     ]
    }
   ],
   "source": [
    "# model predictions using test data\n",
    "predictions = model.predict(test_x,verbose = 1)"
   ]
  },
  {
   "cell_type": "code",
   "execution_count": 34,
   "id": "03daa325-bb49-4cdb-9d2a-607b80928591",
   "metadata": {},
   "outputs": [
    {
     "name": "stdout",
     "output_type": "stream",
     "text": [
      "Predictions[0]: [3.3798099e-06 5.1100056e-08 3.7501231e-06 2.2505956e-06 1.3398699e-06\n",
      " 1.3247643e-03 7.7585200e-06 3.3475142e-03 2.5257247e-04 5.5536412e-02] \n",
      "Predicted_class[0]: 9 \n",
      "Expected_class[0]: 9 \n",
      "\n"
     ]
    }
   ],
   "source": [
    "index = 0\n",
    "print(\"Predictions[{}]: {} \".format(index,predictions[index]))\n",
    "print(\"Predicted_class[{}]: {} \".format(index,np.argmax(predictions[index])))\n",
    "print(\"Expected_class[{}]: {} \".format(index,test_y[index]))\n",
    "print()"
   ]
  },
  {
   "cell_type": "code",
   "execution_count": null,
   "id": "310a55e2-28f0-4784-a380-29ed2cc8bfe0",
   "metadata": {},
   "outputs": [],
   "source": []
  }
 ],
 "metadata": {
  "kernelspec": {
   "display_name": "Python 3 (ipykernel)",
   "language": "python",
   "name": "python3"
  },
  "language_info": {
   "codemirror_mode": {
    "name": "ipython",
    "version": 3
   },
   "file_extension": ".py",
   "mimetype": "text/x-python",
   "name": "python",
   "nbconvert_exporter": "python",
   "pygments_lexer": "ipython3",
   "version": "3.11.5"
  }
 },
 "nbformat": 4,
 "nbformat_minor": 5
}
