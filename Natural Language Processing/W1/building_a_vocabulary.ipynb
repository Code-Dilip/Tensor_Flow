{
 "cells": [
  {
   "cell_type": "code",
   "execution_count": 1,
   "metadata": {
    "id": "XIxUd6TcEEME"
   },
   "outputs": [],
   "source": [
    "import tensorflow as tf\n",
    "\n",
    "sentences = [\n",
    "    'i love my dog',\n",
    "    'I, love my cat'\n",
    "    ]\n",
    "\n",
    "vectorize_layer = tf.keras.layers.TextVectorization()\n",
    "\n",
    "vectorize_layer.adapt(sentences)\n",
    "\n",
    "vocabulary = vectorize_layer.get_vocabulary(include_special_tokens = False)"
   ]
  },
  {
   "cell_type": "code",
   "execution_count": 2,
   "metadata": {
    "colab": {
     "base_uri": "https://localhost:8080/"
    },
    "id": "qgT03rtyFi3T",
    "outputId": "18a00777-3098-451d-d6fa-90780465b0b4"
   },
   "outputs": [
    {
     "name": "stdout",
     "output_type": "stream",
     "text": [
      "0 my\n",
      "1 love\n",
      "2 i\n",
      "3 dog\n",
      "4 cat\n"
     ]
    }
   ],
   "source": [
    "for (index,word) in enumerate(vocabulary):\n",
    "  print(index,word)"
   ]
  },
  {
   "cell_type": "code",
   "execution_count": 3,
   "metadata": {
    "id": "BAVFJf9vF5Qh"
   },
   "outputs": [],
   "source": [
    "sentences = [\n",
    "    'i love my dog',\n",
    "    'I, love my cat',\n",
    "    'You love my dog'\n",
    "]\n",
    "\n",
    "vectorize_layer.adapt(sentences)\n",
    "\n",
    "vocabulary = vectorize_layer.get_vocabulary(include_special_tokens = False)"
   ]
  },
  {
   "cell_type": "code",
   "execution_count": 4,
   "metadata": {
    "colab": {
     "base_uri": "https://localhost:8080/"
    },
    "id": "YAatYM8ZGWhN",
    "outputId": "3aedd992-e4a6-4523-866f-11bb5482641b"
   },
   "outputs": [
    {
     "name": "stdout",
     "output_type": "stream",
     "text": [
      "0 my\n",
      "1 love\n",
      "2 i\n",
      "3 dog\n",
      "4 you\n",
      "5 cat\n"
     ]
    }
   ],
   "source": [
    "for (index,word) in enumerate(vocabulary):\n",
    "  print(index,word)"
   ]
  },
  {
   "cell_type": "code",
   "execution_count": 5,
   "metadata": {
    "colab": {
     "base_uri": "https://localhost:8080/"
    },
    "id": "OrOuokNcGfKF",
    "outputId": "2094b244-c5f2-4e59-c94f-d2d03eafc863"
   },
   "outputs": [
    {
     "name": "stdout",
     "output_type": "stream",
     "text": [
      "0 \n",
      "1 [UNK]\n",
      "2 my\n",
      "3 love\n",
      "4 i\n",
      "5 dog\n",
      "6 you\n",
      "7 cat\n"
     ]
    }
   ],
   "source": [
    "vocabulary = vectorize_layer.get_vocabulary()\n",
    "\n",
    "for (index,word) in enumerate(vocabulary):\n",
    "  print(index,word)"
   ]
  }
 ],
 "metadata": {
  "colab": {
   "provenance": []
  },
  "kernelspec": {
   "display_name": "Python 3 (ipykernel)",
   "language": "python",
   "name": "python3"
  },
  "language_info": {
   "codemirror_mode": {
    "name": "ipython",
    "version": 3
   },
   "file_extension": ".py",
   "mimetype": "text/x-python",
   "name": "python",
   "nbconvert_exporter": "python",
   "pygments_lexer": "ipython3",
   "version": "3.11.5"
  }
 },
 "nbformat": 4,
 "nbformat_minor": 4
}
