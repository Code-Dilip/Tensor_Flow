{
  "nbformat": 4,
  "nbformat_minor": 0,
  "metadata": {
    "colab": {
      "provenance": []
    },
    "kernelspec": {
      "name": "python3",
      "display_name": "Python 3"
    },
    "language_info": {
      "name": "python"
    }
  },
  "cells": [
    {
      "cell_type": "markdown",
      "source": [
        "Tokenizing the Sarcasm Dataset"
      ],
      "metadata": {
        "id": "8SmvJMjoNInU"
      }
    },
    {
      "cell_type": "code",
      "source": [
        "#import required packages\n",
        "import tensorflow as tf\n",
        "import json\n",
        "import tensorflow_datasets as tfds\n",
        "from tensorflow.keras.utils import pad_sequences"
      ],
      "metadata": {
        "id": "eEbaENMYNQWd"
      },
      "execution_count": 1,
      "outputs": []
    },
    {
      "cell_type": "code",
      "source": [
        "#Download Dataset\n",
        "!wget -nc https://storage.googleapis.com/tensorflow-1-public/course3/sarcasm.json"
      ],
      "metadata": {
        "colab": {
          "base_uri": "https://localhost:8080/"
        },
        "id": "A8mvO1mKNhlX",
        "outputId": "814372a3-1e2c-4609-f998-702ea973e797"
      },
      "execution_count": 2,
      "outputs": [
        {
          "output_type": "stream",
          "name": "stdout",
          "text": [
            "File ‘sarcasm.json’ already there; not retrieving.\n",
            "\n"
          ]
        }
      ]
    },
    {
      "cell_type": "code",
      "source": [
        "with open('sarcasm.json','r') as f:\n",
        "  datastore = json.load(f)"
      ],
      "metadata": {
        "id": "hk9xIi-RNyLj"
      },
      "execution_count": 3,
      "outputs": []
    },
    {
      "cell_type": "code",
      "source": [
        "print(\"Len of datasotre:\",len(datastore))"
      ],
      "metadata": {
        "colab": {
          "base_uri": "https://localhost:8080/"
        },
        "id": "p2MDJiV9OApY",
        "outputId": "f016b79b-f59d-41c3-d32b-3e4073d40c4f"
      },
      "execution_count": 4,
      "outputs": [
        {
          "output_type": "stream",
          "name": "stdout",
          "text": [
            "Len of datasotre: 26709\n"
          ]
        }
      ]
    },
    {
      "cell_type": "code",
      "source": [
        "#Check few items of the list\n",
        "print(\"datastore[0]:\",datastore[0])\n",
        "print()\n",
        "print(\"datastore[2000]:\",datastore[2000])\n"
      ],
      "metadata": {
        "colab": {
          "base_uri": "https://localhost:8080/"
        },
        "id": "ex5V6PphOrzg",
        "outputId": "519576c4-4d20-4608-f18a-cc3a0cba16ba"
      },
      "execution_count": 5,
      "outputs": [
        {
          "output_type": "stream",
          "name": "stdout",
          "text": [
            "datastore[0]: {'article_link': 'https://www.huffingtonpost.com/entry/versace-black-code_us_5861fbefe4b0de3a08f600d5', 'headline': \"former versace store clerk sues over secret 'black code' for minority shoppers\", 'is_sarcastic': 0}\n",
            "\n",
            "datastore[2000]: {'article_link': 'https://www.huffingtonpost.com/entry/mh370-theft_n_5684061.html', 'headline': 'couple stole $35,000 from missing plane victims, police say', 'is_sarcastic': 0}\n"
          ]
        }
      ]
    },
    {
      "cell_type": "code",
      "source": [
        "# fetching all sentences\n",
        "sentences = [item['headline'] for item in datastore]"
      ],
      "metadata": {
        "id": "K_gyKVmRPAas"
      },
      "execution_count": 6,
      "outputs": []
    },
    {
      "cell_type": "code",
      "source": [
        "print(\"Total Number of Sentences:\",len(sentences))"
      ],
      "metadata": {
        "colab": {
          "base_uri": "https://localhost:8080/"
        },
        "id": "qOGV92_NPcbg",
        "outputId": "3f3d0987-5363-477e-d3c8-55d2ae023dd2"
      },
      "execution_count": 7,
      "outputs": [
        {
          "output_type": "stream",
          "name": "stdout",
          "text": [
            "Total Number of Sentences: 26709\n"
          ]
        }
      ]
    },
    {
      "cell_type": "code",
      "source": [
        "# iterating over few sentences\n",
        "for i in range(5):\n",
        "  print(sentences[i])"
      ],
      "metadata": {
        "colab": {
          "base_uri": "https://localhost:8080/"
        },
        "id": "ao5TyLnVPxkw",
        "outputId": "fe720ca1-65f7-4948-f874-42d66807b36a"
      },
      "execution_count": 8,
      "outputs": [
        {
          "output_type": "stream",
          "name": "stdout",
          "text": [
            "former versace store clerk sues over secret 'black code' for minority shoppers\n",
            "the 'roseanne' revival catches up to our thorny political mood, for better and worse\n",
            "mom starting to fear son's web series closest thing she will have to grandchild\n",
            "boehner just wants wife to listen, not come up with alternative debt-reduction ideas\n",
            "j.k. rowling wishes snape happy birthday in the most magical way\n"
          ]
        }
      ]
    },
    {
      "cell_type": "code",
      "source": [
        "#instantiate layer\n",
        "vectorize_layer = tf.keras.layers.TextVectorization()\n",
        "\n",
        "#Build the vocalulary\n",
        "vectorize_layer.adapt(sentences)\n",
        "\n",
        "#Apply layer for post padding\n",
        "post_padded_sequences = vectorize_layer(sentences)"
      ],
      "metadata": {
        "id": "9jXTCJxDQNDj"
      },
      "execution_count": 9,
      "outputs": []
    },
    {
      "cell_type": "code",
      "source": [
        "index = 2\n",
        "\n",
        "print(\"Sample headline:\",sentences[index])\n",
        "print()\n",
        "print(\"Sample post_padded_sequence:\",post_padded_sequences[index])\n",
        "print()\n",
        "print(\"Shape of Sample post_padded_sequence:\",post_padded_sequences[index].shape)\n",
        "print()"
      ],
      "metadata": {
        "colab": {
          "base_uri": "https://localhost:8080/"
        },
        "id": "b7DtN1c8Sjyw",
        "outputId": "9561b9f1-af36-4287-9344-89b5e148aa1c"
      },
      "execution_count": 10,
      "outputs": [
        {
          "output_type": "stream",
          "name": "stdout",
          "text": [
            "Sample headline: mom starting to fear son's web series closest thing she will have to grandchild\n",
            "\n",
            "Sample post_padded_sequence: tf.Tensor(\n",
            "[  140   825     2   813  1100  2048   571  5057   199   139    39    46\n",
            "     2 13050     0     0     0     0     0     0     0     0     0     0\n",
            "     0     0     0     0     0     0     0     0     0     0     0     0\n",
            "     0     0     0], shape=(39,), dtype=int64)\n",
            "\n",
            "Shape of Sample post_padded_sequence: (39,)\n",
            "\n"
          ]
        }
      ]
    },
    {
      "cell_type": "code",
      "source": [
        "#Pre Padding\n",
        "\n",
        "vectorize_layer = tf.keras.layers.TextVectorization(ragged = True)\n",
        "\n",
        "vectorize_layer.adapt(sentences)"
      ],
      "metadata": {
        "id": "zDGmqOVkTb_b"
      },
      "execution_count": 11,
      "outputs": []
    },
    {
      "cell_type": "code",
      "source": [
        "ragged_sequences = vectorize_layer(sentences)"
      ],
      "metadata": {
        "id": "w0ZSnEi-V_wF"
      },
      "execution_count": 12,
      "outputs": []
    },
    {
      "cell_type": "code",
      "source": [
        "index = 2\n",
        "\n",
        "print(\"Sample headline:\",sentences[index])\n",
        "print()\n",
        "print(\"Sample ragged_sequence:\",ragged_sequences[index])\n",
        "print()\n",
        "print(\"Shape of Sample ragged_sequence:\",ragged_sequences[index].shape)\n",
        "print()"
      ],
      "metadata": {
        "colab": {
          "base_uri": "https://localhost:8080/"
        },
        "id": "lLlN3gClWcmv",
        "outputId": "dc11476b-2ece-4667-9f36-62951427c180"
      },
      "execution_count": 13,
      "outputs": [
        {
          "output_type": "stream",
          "name": "stdout",
          "text": [
            "Sample headline: mom starting to fear son's web series closest thing she will have to grandchild\n",
            "\n",
            "Sample ragged_sequence: tf.Tensor(\n",
            "[  140   825     2   813  1100  2048   571  5057   199   139    39    46\n",
            "     2 13050], shape=(14,), dtype=int64)\n",
            "\n",
            "Shape of Sample ragged_sequence: (14,)\n",
            "\n"
          ]
        }
      ]
    },
    {
      "cell_type": "code",
      "source": [
        "pre_padded_sequences = pad_sequences(ragged_sequences.numpy())"
      ],
      "metadata": {
        "id": "d_oh5E0MZIve"
      },
      "execution_count": 14,
      "outputs": []
    },
    {
      "cell_type": "code",
      "source": [
        "index = 2\n",
        "\n",
        "print(\"Sample headline:\",sentences[index])\n",
        "print()\n",
        "print(\"Sample pre_padded_sequences:\",pre_padded_sequences[index])\n",
        "print()\n",
        "print(\"Shape of pre_padded_sequences:\",pre_padded_sequences[index].shape)\n",
        "print()"
      ],
      "metadata": {
        "id": "s7KGI11kZbZS",
        "outputId": "0f8738d8-a27e-4240-8b14-a9e281ccb8bd",
        "colab": {
          "base_uri": "https://localhost:8080/"
        }
      },
      "execution_count": 15,
      "outputs": [
        {
          "output_type": "stream",
          "name": "stdout",
          "text": [
            "Sample headline: mom starting to fear son's web series closest thing she will have to grandchild\n",
            "\n",
            "Sample pre_padded_sequences: [    0     0     0     0     0     0     0     0     0     0     0     0\n",
            "     0     0     0     0     0     0     0     0     0     0     0     0\n",
            "     0   140   825     2   813  1100  2048   571  5057   199   139    39\n",
            "    46     2 13050]\n",
            "\n",
            "Shape of pre_padded_sequences: (39,)\n",
            "\n"
          ]
        }
      ]
    }
  ]
}