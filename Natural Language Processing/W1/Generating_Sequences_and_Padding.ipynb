{
  "nbformat": 4,
  "nbformat_minor": 0,
  "metadata": {
    "colab": {
      "provenance": []
    },
    "kernelspec": {
      "name": "python3",
      "display_name": "Python 3"
    },
    "language_info": {
      "name": "python"
    }
  },
  "cells": [
    {
      "cell_type": "markdown",
      "source": [
        "Generating Sequences and Padding"
      ],
      "metadata": {
        "id": "3AFU9FCMH-jn"
      }
    },
    {
      "cell_type": "code",
      "source": [
        "import tensorflow as tf\n",
        "sentences = [\n",
        "    'I love my dog',\n",
        "    'I love my cat',\n",
        "    'You love my dog!',\n",
        "    'Do you think my dog is amazing?'\n",
        "    ]\n",
        "\n",
        "vectorize_layer = tf.keras.layers.TextVectorization()\n",
        "\n",
        "vectorize_layer.adapt(sentences)\n",
        "\n",
        "vocabulary = vectorize_layer.get_vocabulary()\n",
        "print(\"vocabulary: \",vocabulary)"
      ],
      "metadata": {
        "colab": {
          "base_uri": "https://localhost:8080/"
        },
        "id": "tYeWnnorIDWX",
        "outputId": "446994e5-f3a3-4df9-d904-798526727c68"
      },
      "execution_count": 1,
      "outputs": [
        {
          "output_type": "stream",
          "name": "stdout",
          "text": [
            "vocabulary:  ['', '[UNK]', 'my', 'love', 'dog', 'you', 'i', 'think', 'is', 'do', 'cat', 'amazing']\n"
          ]
        }
      ]
    },
    {
      "cell_type": "code",
      "source": [
        "for (index,word) in enumerate(vocabulary):\n",
        "  print(index,word)"
      ],
      "metadata": {
        "colab": {
          "base_uri": "https://localhost:8080/"
        },
        "id": "56b85IehIuxW",
        "outputId": "508ece9d-e08f-4f71-ebed-11e6d2bfe25e"
      },
      "execution_count": 2,
      "outputs": [
        {
          "output_type": "stream",
          "name": "stdout",
          "text": [
            "0 \n",
            "1 [UNK]\n",
            "2 my\n",
            "3 love\n",
            "4 dog\n",
            "5 you\n",
            "6 i\n",
            "7 think\n",
            "8 is\n",
            "9 do\n",
            "10 cat\n",
            "11 amazing\n"
          ]
        }
      ]
    },
    {
      "cell_type": "code",
      "source": [
        "sample_input = 'I love my dog'\n",
        "sample_sequence = vectorize_layer(sample_input)\n",
        "print(\"sample_sequence:\",sample_sequence)"
      ],
      "metadata": {
        "colab": {
          "base_uri": "https://localhost:8080/"
        },
        "id": "u9Ncy_vxJDQk",
        "outputId": "ea2319d9-a680-4a8b-f4c2-ebdf7676a7fd"
      },
      "execution_count": 4,
      "outputs": [
        {
          "output_type": "stream",
          "name": "stdout",
          "text": [
            "sample_sequence: tf.Tensor([6 3 2 4], shape=(4,), dtype=int64)\n"
          ]
        }
      ]
    },
    {
      "cell_type": "code",
      "source": [
        "sentences_dataset = tf.data.Dataset.from_tensor_slices(sentences)\n",
        "\n",
        "sentences_dataset = tf.data.Dataset.from_tensor_slices(sentences)\n",
        "\n",
        "sequences = sentences_dataset.map(vectorize_layer)\n",
        "\n",
        "for sentence, sequence in zip(sentences, sequences):\n",
        "  print(f'{sentence} ---> {sequence}')"
      ],
      "metadata": {
        "colab": {
          "base_uri": "https://localhost:8080/"
        },
        "id": "9qRI2zcyJeNL",
        "outputId": "1542014e-c4b0-4d4c-a62e-979cd8264c68"
      },
      "execution_count": 7,
      "outputs": [
        {
          "output_type": "stream",
          "name": "stdout",
          "text": [
            "I love my dog ---> [6 3 2 4]\n",
            "I love my cat ---> [ 6  3  2 10]\n",
            "You love my dog! ---> [5 3 2 4]\n",
            "Do you think my dog is amazing? ---> [ 9  5  7  2  4  8 11]\n"
          ]
        }
      ]
    },
    {
      "cell_type": "code",
      "source": [
        "sequences_post = vectorize_layer(sentences)\n",
        "\n",
        "print('INPUT:')\n",
        "print(sentences)\n",
        "print()\n",
        "\n",
        "print('OUTPUT:')\n",
        "print(sequences_post)"
      ],
      "metadata": {
        "colab": {
          "base_uri": "https://localhost:8080/"
        },
        "id": "1elXsFRkMZHE",
        "outputId": "87cf965b-a102-4200-af76-0f9ece9bec65"
      },
      "execution_count": 8,
      "outputs": [
        {
          "output_type": "stream",
          "name": "stdout",
          "text": [
            "INPUT:\n",
            "['I love my dog', 'I love my cat', 'You love my dog!', 'Do you think my dog is amazing?']\n",
            "\n",
            "OUTPUT:\n",
            "tf.Tensor(\n",
            "[[ 6  3  2  4  0  0  0]\n",
            " [ 6  3  2 10  0  0  0]\n",
            " [ 5  3  2  4  0  0  0]\n",
            " [ 9  5  7  2  4  8 11]], shape=(4, 7), dtype=int64)\n"
          ]
        }
      ]
    },
    {
      "cell_type": "code",
      "source": [
        "sequences_pre = tf.keras.utils.pad_sequences(sequences, padding='pre')\n",
        "\n",
        "print('INPUT:')\n",
        "[print(sequence.numpy()) for sequence in sequences]\n",
        "print()\n",
        "\n",
        "print('OUTPUT:')\n",
        "print(sequences_pre)"
      ],
      "metadata": {
        "colab": {
          "base_uri": "https://localhost:8080/"
        },
        "id": "_0vfDMgCMwSQ",
        "outputId": "3bf0556c-d694-4a08-84aa-e85a5288b842"
      },
      "execution_count": 9,
      "outputs": [
        {
          "output_type": "stream",
          "name": "stdout",
          "text": [
            "INPUT:\n",
            "[6 3 2 4]\n",
            "[ 6  3  2 10]\n",
            "[5 3 2 4]\n",
            "[ 9  5  7  2  4  8 11]\n",
            "\n",
            "OUTPUT:\n",
            "[[ 0  0  0  6  3  2  4]\n",
            " [ 0  0  0  6  3  2 10]\n",
            " [ 0  0  0  5  3  2  4]\n",
            " [ 9  5  7  2  4  8 11]]\n"
          ]
        }
      ]
    },
    {
      "cell_type": "code",
      "source": [
        "sequences_post_trunc = tf.keras.utils.pad_sequences(sequences, maxlen=5, padding='pre')\n",
        "\n",
        "print('INPUT:')\n",
        "[print(sequence.numpy()) for sequence in sequences]\n",
        "print()\n",
        "\n",
        "print('OUTPUT:')\n",
        "print(sequences_post_trunc)"
      ],
      "metadata": {
        "colab": {
          "base_uri": "https://localhost:8080/"
        },
        "id": "mle_5oUbM0sN",
        "outputId": "2031eaff-0a73-4c61-fea5-6fcdd6221093"
      },
      "execution_count": 10,
      "outputs": [
        {
          "output_type": "stream",
          "name": "stdout",
          "text": [
            "INPUT:\n",
            "[6 3 2 4]\n",
            "[ 6  3  2 10]\n",
            "[5 3 2 4]\n",
            "[ 9  5  7  2  4  8 11]\n",
            "\n",
            "OUTPUT:\n",
            "[[ 0  6  3  2  4]\n",
            " [ 0  6  3  2 10]\n",
            " [ 0  5  3  2  4]\n",
            " [ 7  2  4  8 11]]\n"
          ]
        }
      ]
    },
    {
      "cell_type": "code",
      "source": [
        "vectorize_layer = tf.keras.layers.TextVectorization(ragged=True)\n",
        "\n",
        "vectorize_layer.adapt(sentences)\n",
        "\n",
        "ragged_sequences = vectorize_layer(sentences)\n",
        "\n",
        "print(ragged_sequences)"
      ],
      "metadata": {
        "colab": {
          "base_uri": "https://localhost:8080/"
        },
        "id": "xlYCxYrvM6jx",
        "outputId": "482d0379-aaa4-4aa3-8f19-7a136b23bb44"
      },
      "execution_count": 11,
      "outputs": [
        {
          "output_type": "stream",
          "name": "stdout",
          "text": [
            "<tf.RaggedTensor [[6, 3, 2, 4], [6, 3, 2, 10], [5, 3, 2, 4], [9, 5, 7, 2, 4, 8, 11]]>\n"
          ]
        }
      ]
    },
    {
      "cell_type": "code",
      "source": [
        "sequences_pre = tf.keras.utils.pad_sequences(ragged_sequences.numpy())\n",
        "\n",
        "print(sequences_pre)"
      ],
      "metadata": {
        "colab": {
          "base_uri": "https://localhost:8080/"
        },
        "id": "4ZTWUJlZNQDG",
        "outputId": "3b586827-3957-4031-8047-bbacb5fb5611"
      },
      "execution_count": 12,
      "outputs": [
        {
          "output_type": "stream",
          "name": "stdout",
          "text": [
            "[[ 0  0  0  6  3  2  4]\n",
            " [ 0  0  0  6  3  2 10]\n",
            " [ 0  0  0  5  3  2  4]\n",
            " [ 9  5  7  2  4  8 11]]\n"
          ]
        }
      ]
    },
    {
      "cell_type": "code",
      "source": [
        "sentences_with_oov = [\n",
        "    'i really love my dog',\n",
        "    'my dog loves my manatee'\n",
        "]\n",
        "\n",
        "sequences_with_oov = vectorize_layer(sentences_with_oov)\n",
        "\n",
        "for sentence, sequence in zip(sentences_with_oov, sequences_with_oov):\n",
        "  print(f'{sentence} ---> {sequence}')"
      ],
      "metadata": {
        "colab": {
          "base_uri": "https://localhost:8080/"
        },
        "id": "wdSJrT_RNZFq",
        "outputId": "810ea447-a9d7-44c5-8ec9-2a2350829016"
      },
      "execution_count": 13,
      "outputs": [
        {
          "output_type": "stream",
          "name": "stdout",
          "text": [
            "i really love my dog ---> [6 1 3 2 4]\n",
            "my dog loves my manatee ---> [2 4 1 2 1]\n"
          ]
        }
      ]
    }
  ]
}