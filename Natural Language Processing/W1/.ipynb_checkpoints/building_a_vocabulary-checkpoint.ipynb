{
  "nbformat": 4,
  "nbformat_minor": 0,
  "metadata": {
    "colab": {
      "provenance": []
    },
    "kernelspec": {
      "name": "python3",
      "display_name": "Python 3"
    },
    "language_info": {
      "name": "python"
    }
  },
  "cells": [
    {
      "cell_type": "markdown",
      "source": [
        "Generating Sequences and Padding"
      ],
      "metadata": {
        "id": "bAMCqrdDEDPp"
      }
    },
    {
      "cell_type": "code",
      "source": [
        "import tensorflow as tf\n",
        "\n",
        "sentences = [\n",
        "    'i love my dog',\n",
        "    'I, love my cat'\n",
        "    ]\n",
        "\n",
        "vectorize_layer = tf.keras.layers.TextVectorization()\n",
        "\n",
        "vectorize_layer.adapt(sentences)\n",
        "\n",
        "vocabulary = vectorize_layer.get_vocabulary(include_special_tokens = False)"
      ],
      "metadata": {
        "id": "XIxUd6TcEEME"
      },
      "execution_count": 1,
      "outputs": []
    },
    {
      "cell_type": "code",
      "source": [
        "for (index,word) in enumerate(vocabulary):\n",
        "  print(index,word)"
      ],
      "metadata": {
        "colab": {
          "base_uri": "https://localhost:8080/"
        },
        "id": "qgT03rtyFi3T",
        "outputId": "18a00777-3098-451d-d6fa-90780465b0b4"
      },
      "execution_count": 2,
      "outputs": [
        {
          "output_type": "stream",
          "name": "stdout",
          "text": [
            "0 my\n",
            "1 love\n",
            "2 i\n",
            "3 dog\n",
            "4 cat\n"
          ]
        }
      ]
    },
    {
      "cell_type": "code",
      "source": [
        "sentences = [\n",
        "    'i love my dog',\n",
        "    'I, love my cat',\n",
        "    'You love my dog'\n",
        "]\n",
        "\n",
        "vectorize_layer.adapt(sentences)\n",
        "\n",
        "vocabulary = vectorize_layer.get_vocabulary(include_special_tokens = False)"
      ],
      "metadata": {
        "id": "BAVFJf9vF5Qh"
      },
      "execution_count": 3,
      "outputs": []
    },
    {
      "cell_type": "code",
      "source": [
        "for (index,word) in enumerate(vocabulary):\n",
        "  print(index,word)"
      ],
      "metadata": {
        "colab": {
          "base_uri": "https://localhost:8080/"
        },
        "id": "YAatYM8ZGWhN",
        "outputId": "3aedd992-e4a6-4523-866f-11bb5482641b"
      },
      "execution_count": 4,
      "outputs": [
        {
          "output_type": "stream",
          "name": "stdout",
          "text": [
            "0 my\n",
            "1 love\n",
            "2 i\n",
            "3 dog\n",
            "4 you\n",
            "5 cat\n"
          ]
        }
      ]
    },
    {
      "cell_type": "code",
      "source": [
        "vocabulary = vectorize_layer.get_vocabulary()\n",
        "\n",
        "for (index,word) in enumerate(vocabulary):\n",
        "  print(index,word)"
      ],
      "metadata": {
        "colab": {
          "base_uri": "https://localhost:8080/"
        },
        "id": "OrOuokNcGfKF",
        "outputId": "2094b244-c5f2-4e59-c94f-d2d03eafc863"
      },
      "execution_count": 5,
      "outputs": [
        {
          "output_type": "stream",
          "name": "stdout",
          "text": [
            "0 \n",
            "1 [UNK]\n",
            "2 my\n",
            "3 love\n",
            "4 i\n",
            "5 dog\n",
            "6 you\n",
            "7 cat\n"
          ]
        }
      ]
    },
    {
      "cell_type": "code",
      "source": [],
      "metadata": {
        "id": "2XLDckvLG4Y-"
      },
      "execution_count": null,
      "outputs": []
    }
  ]
}